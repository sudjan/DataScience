{
 "cells": [
  {
   "cell_type": "code",
   "execution_count": 12,
   "id": "f856fa62",
   "metadata": {},
   "outputs": [],
   "source": [
    "import pandas as pd\n",
    "import random"
   ]
  },
  {
   "cell_type": "code",
   "execution_count": 6,
   "id": "62b9e8b6",
   "metadata": {},
   "outputs": [
    {
     "data": {
      "text/html": [
       "<div>\n",
       "<style scoped>\n",
       "    .dataframe tbody tr th:only-of-type {\n",
       "        vertical-align: middle;\n",
       "    }\n",
       "\n",
       "    .dataframe tbody tr th {\n",
       "        vertical-align: top;\n",
       "    }\n",
       "\n",
       "    .dataframe thead th {\n",
       "        text-align: right;\n",
       "    }\n",
       "</style>\n",
       "<table border=\"1\" class=\"dataframe\">\n",
       "  <thead>\n",
       "    <tr style=\"text-align: right;\">\n",
       "      <th></th>\n",
       "      <th>Unnamed: 0</th>\n",
       "      <th>publish_date</th>\n",
       "      <th>headline_category</th>\n",
       "      <th>headline_text</th>\n",
       "    </tr>\n",
       "  </thead>\n",
       "  <tbody>\n",
       "    <tr>\n",
       "      <th>0</th>\n",
       "      <td>0</td>\n",
       "      <td>20010102</td>\n",
       "      <td>unknown</td>\n",
       "      <td>Status quo will not be disturbed at Ayodhya; s...</td>\n",
       "    </tr>\n",
       "    <tr>\n",
       "      <th>1</th>\n",
       "      <td>1</td>\n",
       "      <td>20010102</td>\n",
       "      <td>unknown</td>\n",
       "      <td>Fissures in Hurriyat over Pak visit</td>\n",
       "    </tr>\n",
       "    <tr>\n",
       "      <th>2</th>\n",
       "      <td>2</td>\n",
       "      <td>20010102</td>\n",
       "      <td>unknown</td>\n",
       "      <td>America's unwanted heading for India?</td>\n",
       "    </tr>\n",
       "    <tr>\n",
       "      <th>3</th>\n",
       "      <td>3</td>\n",
       "      <td>20010102</td>\n",
       "      <td>unknown</td>\n",
       "      <td>For bigwigs; it is destination Goa</td>\n",
       "    </tr>\n",
       "    <tr>\n",
       "      <th>4</th>\n",
       "      <td>4</td>\n",
       "      <td>20010102</td>\n",
       "      <td>unknown</td>\n",
       "      <td>Extra buses to clear tourist traffic</td>\n",
       "    </tr>\n",
       "  </tbody>\n",
       "</table>\n",
       "</div>"
      ],
      "text/plain": [
       "   Unnamed: 0  publish_date headline_category  \\\n",
       "0           0      20010102           unknown   \n",
       "1           1      20010102           unknown   \n",
       "2           2      20010102           unknown   \n",
       "3           3      20010102           unknown   \n",
       "4           4      20010102           unknown   \n",
       "\n",
       "                                       headline_text  \n",
       "0  Status quo will not be disturbed at Ayodhya; s...  \n",
       "1                Fissures in Hurriyat over Pak visit  \n",
       "2              America's unwanted heading for India?  \n",
       "3                 For bigwigs; it is destination Goa  \n",
       "4               Extra buses to clear tourist traffic  "
      ]
     },
     "execution_count": 6,
     "metadata": {},
     "output_type": "execute_result"
    }
   ],
   "source": [
    "data=pd.read_csv(r'D:\\MBA BITS Pilani\\Python Programming\\data.csv')"
   ]
  },
  {
   "cell_type": "code",
   "execution_count": 7,
   "id": "2e0afdfb",
   "metadata": {},
   "outputs": [],
   "source": [
    "#Store and print the rows of the column 'headline_category' in a single variable 'category'\n",
    "data[\"category\"]=data[\"headline_category\"]"
   ]
  },
  {
   "cell_type": "code",
   "execution_count": 8,
   "id": "0ff65d3d",
   "metadata": {},
   "outputs": [
    {
     "data": {
      "text/html": [
       "<div>\n",
       "<style scoped>\n",
       "    .dataframe tbody tr th:only-of-type {\n",
       "        vertical-align: middle;\n",
       "    }\n",
       "\n",
       "    .dataframe tbody tr th {\n",
       "        vertical-align: top;\n",
       "    }\n",
       "\n",
       "    .dataframe thead th {\n",
       "        text-align: right;\n",
       "    }\n",
       "</style>\n",
       "<table border=\"1\" class=\"dataframe\">\n",
       "  <thead>\n",
       "    <tr style=\"text-align: right;\">\n",
       "      <th></th>\n",
       "      <th>Unnamed: 0</th>\n",
       "      <th>publish_date</th>\n",
       "      <th>headline_category</th>\n",
       "      <th>headline_text</th>\n",
       "      <th>category</th>\n",
       "    </tr>\n",
       "  </thead>\n",
       "  <tbody>\n",
       "    <tr>\n",
       "      <th>0</th>\n",
       "      <td>0</td>\n",
       "      <td>20010102</td>\n",
       "      <td>unknown</td>\n",
       "      <td>Status quo will not be disturbed at Ayodhya; s...</td>\n",
       "      <td>unknown</td>\n",
       "    </tr>\n",
       "    <tr>\n",
       "      <th>1</th>\n",
       "      <td>1</td>\n",
       "      <td>20010102</td>\n",
       "      <td>unknown</td>\n",
       "      <td>Fissures in Hurriyat over Pak visit</td>\n",
       "      <td>unknown</td>\n",
       "    </tr>\n",
       "    <tr>\n",
       "      <th>2</th>\n",
       "      <td>2</td>\n",
       "      <td>20010102</td>\n",
       "      <td>unknown</td>\n",
       "      <td>America's unwanted heading for India?</td>\n",
       "      <td>unknown</td>\n",
       "    </tr>\n",
       "    <tr>\n",
       "      <th>3</th>\n",
       "      <td>3</td>\n",
       "      <td>20010102</td>\n",
       "      <td>unknown</td>\n",
       "      <td>For bigwigs; it is destination Goa</td>\n",
       "      <td>unknown</td>\n",
       "    </tr>\n",
       "    <tr>\n",
       "      <th>4</th>\n",
       "      <td>4</td>\n",
       "      <td>20010102</td>\n",
       "      <td>unknown</td>\n",
       "      <td>Extra buses to clear tourist traffic</td>\n",
       "      <td>unknown</td>\n",
       "    </tr>\n",
       "  </tbody>\n",
       "</table>\n",
       "</div>"
      ],
      "text/plain": [
       "   Unnamed: 0  publish_date headline_category  \\\n",
       "0           0      20010102           unknown   \n",
       "1           1      20010102           unknown   \n",
       "2           2      20010102           unknown   \n",
       "3           3      20010102           unknown   \n",
       "4           4      20010102           unknown   \n",
       "\n",
       "                                       headline_text category  \n",
       "0  Status quo will not be disturbed at Ayodhya; s...  unknown  \n",
       "1                Fissures in Hurriyat over Pak visit  unknown  \n",
       "2              America's unwanted heading for India?  unknown  \n",
       "3                 For bigwigs; it is destination Goa  unknown  \n",
       "4               Extra buses to clear tourist traffic  unknown  "
      ]
     },
     "execution_count": 8,
     "metadata": {},
     "output_type": "execute_result"
    }
   ],
   "source": [
    "data.head()"
   ]
  },
  {
   "cell_type": "code",
   "execution_count": 9,
   "id": "f482de3d",
   "metadata": {},
   "outputs": [],
   "source": [
    "#Store and print the rows of the column 'headline_text' in a single variable 'headlines'\n",
    "data[\"headlines\"]=data[\"headline_text\"]"
   ]
  },
  {
   "cell_type": "code",
   "execution_count": 11,
   "id": "53cfd2af",
   "metadata": {},
   "outputs": [
    {
     "data": {
      "text/plain": [
       "Unnamed: 0            int64\n",
       "publish_date          int64\n",
       "headline_category    object\n",
       "headline_text        object\n",
       "category             object\n",
       "headlines            object\n",
       "dtype: object"
      ]
     },
     "execution_count": 11,
     "metadata": {},
     "output_type": "execute_result"
    }
   ],
   "source": [
    "#Check the data-type of each column of the dataset.\n",
    "data.dtypes"
   ]
  },
  {
   "cell_type": "code",
   "execution_count": 77,
   "id": "545a6004",
   "metadata": {},
   "outputs": [
    {
     "data": {
      "text/plain": [
       "headlines    The Learning Curve\n",
       "Name: 2559, dtype: object"
      ]
     },
     "execution_count": 77,
     "metadata": {},
     "output_type": "execute_result"
    }
   ],
   "source": [
    "# Pick a line from the 'headline_text' using a generated random number and store it in variable 'line'.\n",
    "line=data.loc[random.randint(0,len(data))][{\"headlines\"}]\n",
    "line\n",
    "# Challenge : Do it in a single line of code. (It can be displayed using another line of code.)"
   ]
  },
  {
   "cell_type": "code",
   "execution_count": 66,
   "id": "9c8d01a0",
   "metadata": {},
   "outputs": [
    {
     "data": {
      "text/plain": [
       "headlines    NEW FLYOVERS CAN WITHSTAND QUAKES UPTO 8.5 ON ...\n",
       "Name: 1248, dtype: object"
      ]
     },
     "execution_count": 66,
     "metadata": {},
     "output_type": "execute_result"
    }
   ],
   "source": [
    "# Convert each letter of the 'line' variable to uppercase.\n",
    "line_upper=line.str.upper()\n",
    "line_upper"
   ]
  },
  {
   "cell_type": "code",
   "execution_count": 34,
   "id": "ec6d9f76",
   "metadata": {},
   "outputs": [
    {
     "data": {
      "text/plain": [
       "headlines    cola wars meant to keep demand fizzy\n",
       "Name: 2950, dtype: object"
      ]
     },
     "execution_count": 34,
     "metadata": {},
     "output_type": "execute_result"
    }
   ],
   "source": [
    "# Convert each letter of the 'line' variable to lowercase.\n",
    "line_lower=line.str.lower()\n",
    "line_lower"
   ]
  },
  {
   "cell_type": "code",
   "execution_count": 38,
   "id": "49d6269e",
   "metadata": {},
   "outputs": [
    {
     "data": {
      "text/plain": [
       "headlines    36\n",
       "Name: 2950, dtype: int64"
      ]
     },
     "execution_count": 38,
     "metadata": {},
     "output_type": "execute_result"
    }
   ],
   "source": [
    "# Find the length of the string stored in 'line'.\n",
    "line.str.len()"
   ]
  },
  {
   "cell_type": "code",
   "execution_count": 42,
   "id": "445ffcb9",
   "metadata": {},
   "outputs": [
    {
     "data": {
      "text/plain": [
       "headlines    Cola Wars Meant To Keep Demand Fizzy\n",
       "Name: 2950, dtype: object"
      ]
     },
     "execution_count": 42,
     "metadata": {},
     "output_type": "execute_result"
    }
   ],
   "source": [
    "# Capitalize the string store in 'line'.\n",
    "line_capitalize=line.str.title()\n",
    "line_capitalize"
   ]
  },
  {
   "cell_type": "code",
   "execution_count": 73,
   "id": "3f07c3ec",
   "metadata": {},
   "outputs": [
    {
     "data": {
      "text/plain": [
       "'This Community Centre Is A Death Trap'"
      ]
     },
     "execution_count": 73,
     "metadata": {},
     "output_type": "execute_result"
    }
   ],
   "source": [
    "line.str.title()[0]"
   ]
  },
  {
   "cell_type": "code",
   "execution_count": 78,
   "id": "6b226ef2",
   "metadata": {},
   "outputs": [
    {
     "data": {
      "text/plain": [
       "True"
      ]
     },
     "execution_count": 78,
     "metadata": {},
     "output_type": "execute_result"
    }
   ],
   "source": [
    "# Check if the string begins with the word 'The'.\n",
    "\"The\" in line.str.title()[0]"
   ]
  },
  {
   "cell_type": "code",
   "execution_count": 50,
   "id": "0c89bd4e",
   "metadata": {},
   "outputs": [
    {
     "name": "stdout",
     "output_type": "stream",
     "text": [
      "The best music of the year\n",
      "They are here to help us\n",
      "These noisy spots are hurting your ears\n",
      "The string that pulled Stephen Hawking to India\n",
      "The saga of Usha Stud Farm\n",
      "The string that pulled Stephen Hawking to India\n",
      "The string that pulled Stephen Hawking to India\n",
      "The saga of Usha Stud Farm\n",
      "The Sphinx can act too\n",
      "New year hash: They paid Rs 18;000; went hungry\n",
      "Kamal Haasan: Hey (Thenali) Ram\n",
      "The Bali beat goes beyond bhangra\n",
      "Kamal Haasan: Hey (Thenali) Ram\n",
      "The policemen find a new excuse: Television in slums\n",
      "The policemen find a new excuse: Television in slums\n",
      "The Kamasutra girl is real cool\n",
      "The best things in life\n",
      "Towards a Theory of Everything - II\n",
      "The Veggie Abroad\n",
      "Security bandobast: The one that got away\n",
      "'Temptation Island' beats 'The Mole'\n",
      "The court has faith in us: Jagmohan\n",
      "The sound of Alabina\n",
      "The life-style disease leads to blindness\n",
      "The unpredictable calamity\n",
      "The Learning Curve\n",
      "The unpredictable calamity\n",
      "The town that was once Bhuj\n",
      "The Word Factory\n",
      "The Kiteman cometh\n",
      "The town that lay forgotten for 36 hours\n",
      "The Enchanted Forester\n",
      "The question that started the Hinduja affair\n",
      "The sound of Alabina\n",
      "The sound of Alabina\n",
      "The Bhuj Quake: FAQs\n",
      "The Enemy Within\n",
      "Sikander: The son also rises!\n",
      "Sikander: The son also rises!\n",
      "There will be more taxes; says Vajpayee\n",
      "There will be more taxes; says Vajpayee\n",
      "The Dalai Lama: A Man With A Mission\n",
      "The final verdict: It touched 8.1 on Richter\n",
      "The Ground beneath their feet\n",
      "The Ground beneath their feet\n",
      "The well-oiled machinery of civil society\n",
      "These criminals must get their due\n",
      "They 'bought' enough gelatin to blow up Karnataka\n",
      "The Match Factor\n",
      "The Kachchi Sprint\n",
      "The Art of Healing\n",
      "The Real and the Unreal\n",
      "The other Rajeev\n",
      "The inimitable Mamata\n",
      "The Page Three Politician\n",
      "The art of science\n",
      "The three Sunitas\n",
      "The many avataars Subbirami Reddy\n",
      "Remember The Titans\n",
      "These young citizens are voicing their concern\n",
      "The old man in his labyrinth\n",
      "The Purpose of Our Life is to 'Know'\n",
      "The killing mines of Dhanbad\n",
      "Ban on smoking: The Kerala experience\n",
      "Human Evolution and The Ten Avatars\n",
      "There's no use shying away from shyness\n",
      "The Golden Genome\n",
      "Anupama Verma: The grahan has been wiped off\n",
      "The Many Benefits Of Daily Prayer\n",
      "The salsa was superb; and who's your caterer?\n",
      "The healing touch\n",
      "Their bamboo music is hard to beat\n",
      "The city on a school wall\n",
      "They help women overcome barrier; achieve success\n",
      "Janasabha: The catalyst between people; departments\n",
      "The emperor of cricket is dead\n",
      "The Don misses another century\n",
      "The Planet's Plight\n",
      "The Kingdom of God Is Within Each of Us\n",
      "The Arthashastra\n",
      "The Buddha Smiles\n",
      "The Power of One\n",
      "The man behind the hot seat\n",
      "De-Islamizing Islam: The Taliban Project\n",
      "The Lady's not for Turning\n",
      "The power broker\n",
      "The restless style guru\n",
      "The Sonia magic hasn't quite faded\n",
      "Exposed! Sonia's letter to Jaya on playing a Thehelka trick\n",
      "The PMO strikes back\n",
      "The death of a freedom fighter\n",
      "The Sound of Music\n",
      "The Learning Curve\n",
      "The Bingo Brigade\n",
      "The Comeback Kids\n",
      "The Ultimate Holy Book of Humanity\n",
      "The magical world of P C Sorcar\n",
      "The happiness of a long-distance runner\n",
      "The censors seem to have lost their scissors\n",
      "Question Time The appointment of George Verghese\n",
      "Anil Kapoor: They've heard his Pukar!\n",
      "The sound of Alabina\n",
      "The Middle Path\n",
      "The master blaster as a spin-doctor\n",
      "The master blaster as a spin-doctor\n",
      "The flip side of ayurvedic products\n",
      "Tarun Tejpal: The shock jock\n",
      "'There's genius in all of us'\n",
      "The earth mother\n",
      "The dashing dadima\n",
      "The devil in Delhiites\n",
      "The Amish People\n",
      "The long and short of the growing problem\n",
      "The long and short of the growing problem\n",
      "All The Pretty Horses\n",
      "The candidates are polls apart\n",
      "The Good Wife\n",
      "The Cross Symbolises Life & Redemption\n",
      "The Stray Pixels\n",
      "These girls talk suspension; not boybands\n",
      "The Stray Pixels\n",
      "The Stray Pixels\n",
      "The inner landscapes\n",
      "The mind-body\n",
      "The lady\n",
      "Where The Tax Axe Falls\n",
      "The Philosophical Basis of Religion\n",
      "The Other Abdullah\n",
      "Azim Premji: The brain behind Wipro's winning streak\n",
      "The Bushman\n",
      "Mahesh Manjrekar: The man behind the gimmicks\n",
      "The road not taken\n",
      "There's a serial killer on the Net\n",
      "The Bandh Wagon\n",
      "Puru Rajkumar: The word is 'mum'!\n",
      "The Road Not Taken\n",
      "The Forgotten Scam\n",
      "Fare Thee Well\n",
      "The Forgotten Scam\n",
      "Fare Thee Well\n"
     ]
    }
   ],
   "source": [
    "# Challenge: Find the number of strings that start with the word 'The' in the dataset column 'headline_text'.\n",
    "for k in data.index:\n",
    "    if \"The\" in data[\"headline_text\"][k]:\n",
    "        print(data[\"headline_text\"][k])\n",
    "# It may take time if you use a for loop. Try some other approach?"
   ]
  },
  {
   "cell_type": "code",
   "execution_count": 52,
   "id": "f69c5f8a",
   "metadata": {},
   "outputs": [
    {
     "data": {
      "text/plain": [
       "0       Status \n",
       "1       Fissure\n",
       "2       America\n",
       "3       For big\n",
       "4       Extra b\n",
       "         ...   \n",
       "3995    90;000 \n",
       "3996    Another\n",
       "3997    Another\n",
       "3998    Petrol \n",
       "3999    Probe o\n",
       "Name: headline_text, Length: 4000, dtype: object"
      ]
     },
     "execution_count": 52,
     "metadata": {},
     "output_type": "execute_result"
    }
   ],
   "source": [
    "# Extract the first 6 characters of each row of the column 'headline_text' of the dataset.\n",
    "data[\"headline_text\"].str[0:7]"
   ]
  },
  {
   "cell_type": "code",
   "execution_count": 59,
   "id": "ea040faa",
   "metadata": {},
   "outputs": [
    {
     "name": "stdout",
     "output_type": "stream",
     "text": [
      "['Cola', 'wars']\n"
     ]
    }
   ],
   "source": [
    "# Split the words of the string stored in the 'line' variable and print the first 2 words.\n",
    "print(line.str.split()[0][0:2])"
   ]
  },
  {
   "cell_type": "code",
   "execution_count": 79,
   "id": "1ce149bc",
   "metadata": {},
   "outputs": [
    {
     "data": {
      "text/plain": [
       "['The', 'Learning', 'Curve']"
      ]
     },
     "execution_count": 79,
     "metadata": {},
     "output_type": "execute_result"
    }
   ],
   "source": [
    "#Challenge: Print all the unique words in the variable 'line'. Hint: Use the 'split' function.\n",
    "uniqueList=[]\n",
    "for word in line.str.split()[0]:\n",
    "    if word not in uniqueList:\n",
    "        uniqueList.append(word)\n",
    "        \n",
    "uniqueList"
   ]
  },
  {
   "cell_type": "code",
   "execution_count": 80,
   "id": "fab930bd",
   "metadata": {},
   "outputs": [
    {
     "data": {
      "text/plain": [
       "0"
      ]
     },
     "execution_count": 80,
     "metadata": {},
     "output_type": "execute_result"
    }
   ],
   "source": [
    "#Find the position of the word 'The' in the 'line' variable, if not present then search for any word that \n",
    "#you know that is present in that string.\n",
    "uniqueList.index(\"The\")\n",
    "#What is printed when the word isn't present in the string? Google why!"
   ]
  },
  {
   "cell_type": "code",
   "execution_count": 83,
   "id": "cb83e1b2",
   "metadata": {},
   "outputs": [
    {
     "data": {
      "text/plain": [
       "1"
      ]
     },
     "execution_count": 83,
     "metadata": {},
     "output_type": "execute_result"
    }
   ],
   "source": [
    "#Find the number of times the word 'The' occurs in the 'line' variable.\n",
    "line[0].count(\"The\")"
   ]
  },
  {
   "cell_type": "code",
   "execution_count": null,
   "id": "43b5ef9d",
   "metadata": {},
   "outputs": [],
   "source": [
    "# Print characters from string stored in 'line' variable by skipping each second letter.\n",
    "# Note: Whitespaces are counted as characters."
   ]
  },
  {
   "cell_type": "code",
   "execution_count": 93,
   "id": "ba5deea3",
   "metadata": {},
   "outputs": [
    {
     "name": "stdout",
     "output_type": "stream",
     "text": [
      "The\n"
     ]
    }
   ],
   "source": [
    "# Challenge: Find the word that occurs with the highest frequency in the string stored in the 'line' variable.\n",
    "hcount=0\n",
    "hmax=0\n",
    "for word in line[0].split():\n",
    "    hcount=line[0].count(word)\n",
    "    if hcount>hmax:\n",
    "        hmax=hcount\n",
    "        maxindex=line[0].index(word)\n",
    "        \n",
    "print(line[0].split()[maxindex])\n",
    "# Print 'None' if all words have the same frequency."
   ]
  },
  {
   "cell_type": "code",
   "execution_count": 91,
   "id": "8bb0db01",
   "metadata": {},
   "outputs": [
    {
     "name": "stdout",
     "output_type": "stream",
     "text": [
      "The\n",
      "Learning\n",
      "Curve\n"
     ]
    }
   ],
   "source": [
    "for word in line[0].split():\n",
    "    print(word)"
   ]
  },
  {
   "cell_type": "code",
   "execution_count": 100,
   "id": "37657506",
   "metadata": {},
   "outputs": [
    {
     "name": "stdout",
     "output_type": "stream",
     "text": [
      "{'T': 1, 'h': 1, 'e': 3, 'L': 1, 'a': 1, 'r': 2, 'n': 2, 'i': 1, 'g': 1, 'C': 1, 'u': 1, 'v': 1}\n"
     ]
    }
   ],
   "source": [
    "# Final Challenge: Find the frequency of each character in the string stored in 'line' variable in the form of a dictionary. \n",
    "wordDict={}\n",
    "trackWord=[]\n",
    "for word in line.str.replace(\" \",\"\")[0]:\n",
    "    if word not in trackWord:\n",
    "        trackWord.append(word)\n",
    "        wordDict[word]=0\n",
    "    if word in trackWord:\n",
    "        wordDict[word]+=1\n",
    "print(wordDict)\n",
    "# No output has been provided to make sure the student tries to solve a problem with no hint. :)"
   ]
  }
 ],
 "metadata": {
  "kernelspec": {
   "display_name": "Python 3 (ipykernel)",
   "language": "python",
   "name": "python3"
  },
  "language_info": {
   "codemirror_mode": {
    "name": "ipython",
    "version": 3
   },
   "file_extension": ".py",
   "mimetype": "text/x-python",
   "name": "python",
   "nbconvert_exporter": "python",
   "pygments_lexer": "ipython3",
   "version": "3.9.7"
  }
 },
 "nbformat": 4,
 "nbformat_minor": 5
}
